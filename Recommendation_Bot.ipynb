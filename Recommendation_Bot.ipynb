{
  "nbformat": 4,
  "nbformat_minor": 0,
  "metadata": {
    "colab": {
      "name": "Recommendation Bot.ipynb",
      "provenance": [],
      "collapsed_sections": [],
      "mount_file_id": "1OgU7Ez1OY7Xl7flo1aAb-JdOhSu_9SE3",
      "authorship_tag": "ABX9TyMVyyXcWRiFRbFNUqx/JsNj",
      "include_colab_link": true
    },
    "kernelspec": {
      "name": "python3",
      "display_name": "Python 3"
    },
    "language_info": {
      "name": "python"
    }
  },
  "cells": [
    {
      "cell_type": "markdown",
      "metadata": {
        "id": "view-in-github",
        "colab_type": "text"
      },
      "source": [
        "<a href=\"https://colab.research.google.com/github/kumaradityaka/Recommendation_Bot/blob/main/Recommendation_Bot.ipynb\" target=\"_parent\"><img src=\"https://colab.research.google.com/assets/colab-badge.svg\" alt=\"Open In Colab\"/></a>"
      ]
    },
    {
      "cell_type": "code",
      "metadata": {
        "id": "mH4s4uOD5bX7"
      },
      "source": [
        "import numpy as np\n",
        "import json\n",
        "import re\n",
        "import tensorflow as tf\n",
        "import random\n",
        "import spacy\n",
        "nlp = spacy.load('en_core_web_sm')"
      ],
      "execution_count": 24,
      "outputs": []
    },
    {
      "cell_type": "code",
      "metadata": {
        "id": "11ntZ0GX-p1Y"
      },
      "source": [
        "with open('/content/drive/MyDrive/Data/Intent.json') as f:\n",
        "    intents = json.load(f)"
      ],
      "execution_count": 25,
      "outputs": []
    },
    {
      "cell_type": "code",
      "metadata": {
        "id": "7JeoSmEgOZk0"
      },
      "source": [
        "def preprocessing(line):\n",
        "    line = re.sub(r'[^a-zA-z.?!\\']', ' ', line)\n",
        "    line = re.sub(r'[ ]+', ' ', line)\n",
        "    return line\n",
        "  "
      ],
      "execution_count": 26,
      "outputs": []
    },
    {
      "cell_type": "code",
      "metadata": {
        "id": "qD97inhvOejq"
      },
      "source": [
        "\n",
        "inputs, targets = [], []\n",
        "classes = []\n",
        "intent_doc = {}\n",
        "\n",
        "for intent in intents['intents']:\n",
        "    if intent['intent'] not in classes:\n",
        "        classes.append(intent['intent'])\n",
        "    if intent['intent'] not in intent_doc:\n",
        "        intent_doc[intent['intent']] = []\n",
        "        \n",
        "    for text in intent['text']:\n",
        "        inputs.append(preprocessing(text))\n",
        "        targets.append(intent['intent'])\n",
        "        \n",
        "    for response in intent['responses']:\n",
        "        intent_doc[intent['intent']].append(response)"
      ],
      "execution_count": 27,
      "outputs": []
    },
    {
      "cell_type": "code",
      "metadata": {
        "id": "8WvC7gldOlBW"
      },
      "source": [
        "def tokenize_data(input_list):\n",
        "    tokenizer = tf.keras.preprocessing.text.Tokenizer(filters='', oov_token='<unk>')\n",
        "    \n",
        "    tokenizer.fit_on_texts(input_list)\n",
        "    \n",
        "    input_seq = tokenizer.texts_to_sequences(input_list)\n",
        "\n",
        "    input_seq = tf.keras.preprocessing.sequence.pad_sequences(input_seq, padding='pre')\n",
        "    \n",
        "    return tokenizer, input_seq\n",
        "\n",
        "# preprocess input data\n",
        "tokenizer, input_tensor = tokenize_data(inputs)\n"
      ],
      "execution_count": 28,
      "outputs": []
    },
    {
      "cell_type": "code",
      "metadata": {
        "id": "q32NxnOZSHfu"
      },
      "source": [
        "def create_categorical_target(targets):\n",
        "    word={}\n",
        "    categorical_target=[]\n",
        "    counter=0\n",
        "    for trg in targets:\n",
        "        if trg not in word:\n",
        "            word[trg]=counter\n",
        "            counter+=1\n",
        "        categorical_target.append(word[trg])\n",
        "    \n",
        "    categorical_tensor = tf.keras.utils.to_categorical(categorical_target, num_classes=len(word), dtype='int32')\n",
        "    return categorical_tensor, dict((v,k) for k, v in word.items())\n",
        "\n",
        "# preprocess output data\n",
        "target_tensor, trg_index_word = create_categorical_target(targets)"
      ],
      "execution_count": 29,
      "outputs": []
    },
    {
      "cell_type": "code",
      "metadata": {
        "colab": {
          "base_uri": "https://localhost:8080/"
        },
        "id": "7ROfEH5QSdYq",
        "outputId": "bed41b73-b351-4536-8ce3-cce36f0c7073"
      },
      "source": [
        "print('input shape: {} and output shape: {}'.format(input_tensor.shape, target_tensor.shape))"
      ],
      "execution_count": 30,
      "outputs": [
        {
          "output_type": "stream",
          "text": [
            "input shape: (128, 7) and output shape: (128, 20)\n"
          ],
          "name": "stdout"
        }
      ]
    },
    {
      "cell_type": "code",
      "metadata": {
        "id": "ApQaOoY5Skpg"
      },
      "source": [
        "# hyperparameters\n",
        "epochs=50\n",
        "vocab_size=len(tokenizer.word_index) + 1\n",
        "embed_dim=512\n",
        "units=128\n",
        "target_length=target_tensor.shape[1]"
      ],
      "execution_count": 31,
      "outputs": []
    },
    {
      "cell_type": "code",
      "metadata": {
        "colab": {
          "base_uri": "https://localhost:8080/"
        },
        "id": "fPscN3kiSxnZ",
        "outputId": "f9ae3c59-187f-4016-fcde-985408cd98ee"
      },
      "source": [
        "# build RNN Model with tensorflow\n",
        "model = tf.keras.models.Sequential([\n",
        "    tf.keras.layers.Embedding(vocab_size, embed_dim),\n",
        "    tf.keras.layers.Bidirectional(tf.keras.layers.LSTM(units, dropout=0.2)),\n",
        "    tf.keras.layers.Dense(units, activation='relu'),\n",
        "    tf.keras.layers.Dropout(0.5),\n",
        "    tf.keras.layers.Dense(target_length, activation='softmax')\n",
        "])\n",
        "\n",
        "optimizer = tf.keras.optimizers.Adam(lr=1e-2)\n",
        "model.compile(optimizer=optimizer, loss='categorical_crossentropy', metrics=['accuracy'])\n",
        "model.summary()"
      ],
      "execution_count": 32,
      "outputs": [
        {
          "output_type": "stream",
          "text": [
            "Model: \"sequential_2\"\n",
            "_________________________________________________________________\n",
            "Layer (type)                 Output Shape              Param #   \n",
            "=================================================================\n",
            "embedding_2 (Embedding)      (None, None, 512)         59392     \n",
            "_________________________________________________________________\n",
            "bidirectional_2 (Bidirection (None, 256)               656384    \n",
            "_________________________________________________________________\n",
            "dense_4 (Dense)              (None, 128)               32896     \n",
            "_________________________________________________________________\n",
            "dropout_2 (Dropout)          (None, 128)               0         \n",
            "_________________________________________________________________\n",
            "dense_5 (Dense)              (None, 20)                2580      \n",
            "=================================================================\n",
            "Total params: 751,252\n",
            "Trainable params: 751,252\n",
            "Non-trainable params: 0\n",
            "_________________________________________________________________\n"
          ],
          "name": "stdout"
        }
      ]
    },
    {
      "cell_type": "code",
      "metadata": {
        "colab": {
          "base_uri": "https://localhost:8080/"
        },
        "id": "jXDhIb8dS9Fi",
        "outputId": "776f3da9-e8a7-4013-b287-1aa1f7f20ceb"
      },
      "source": [
        "early_stop = tf.keras.callbacks.EarlyStopping(monitor='loss', patience=4)\n",
        "\n",
        "# train the model\n",
        "model.fit(input_tensor, target_tensor, epochs=55)"
      ],
      "execution_count": 33,
      "outputs": [
        {
          "output_type": "stream",
          "text": [
            "Epoch 1/55\n",
            "4/4 [==============================] - 3s 56ms/step - loss: 3.0030 - accuracy: 0.0542\n",
            "Epoch 2/55\n",
            "4/4 [==============================] - 0s 59ms/step - loss: 2.6809 - accuracy: 0.2490\n",
            "Epoch 3/55\n",
            "4/4 [==============================] - 0s 61ms/step - loss: 1.8949 - accuracy: 0.5396\n",
            "Epoch 4/55\n",
            "4/4 [==============================] - 0s 59ms/step - loss: 1.1110 - accuracy: 0.6844\n",
            "Epoch 5/55\n",
            "4/4 [==============================] - 0s 61ms/step - loss: 0.7236 - accuracy: 0.7760\n",
            "Epoch 6/55\n",
            "4/4 [==============================] - 0s 56ms/step - loss: 0.3913 - accuracy: 0.8771\n",
            "Epoch 7/55\n",
            "4/4 [==============================] - 0s 64ms/step - loss: 0.2661 - accuracy: 0.9146\n",
            "Epoch 8/55\n",
            "4/4 [==============================] - 0s 56ms/step - loss: 0.2220 - accuracy: 0.9292\n",
            "Epoch 9/55\n",
            "4/4 [==============================] - 0s 58ms/step - loss: 0.0874 - accuracy: 0.9823\n",
            "Epoch 10/55\n",
            "4/4 [==============================] - 0s 58ms/step - loss: 0.0732 - accuracy: 0.9917\n",
            "Epoch 11/55\n",
            "4/4 [==============================] - 0s 59ms/step - loss: 0.0473 - accuracy: 0.9823\n",
            "Epoch 12/55\n",
            "4/4 [==============================] - 0s 54ms/step - loss: 0.0188 - accuracy: 1.0000\n",
            "Epoch 13/55\n",
            "4/4 [==============================] - 0s 57ms/step - loss: 0.0386 - accuracy: 0.9885\n",
            "Epoch 14/55\n",
            "4/4 [==============================] - 0s 57ms/step - loss: 0.0054 - accuracy: 1.0000\n",
            "Epoch 15/55\n",
            "4/4 [==============================] - 0s 64ms/step - loss: 0.0629 - accuracy: 0.9771\n",
            "Epoch 16/55\n",
            "4/4 [==============================] - 0s 63ms/step - loss: 0.0177 - accuracy: 0.9948\n",
            "Epoch 17/55\n",
            "4/4 [==============================] - 0s 57ms/step - loss: 0.0291 - accuracy: 0.9917\n",
            "Epoch 18/55\n",
            "4/4 [==============================] - 0s 56ms/step - loss: 0.0114 - accuracy: 0.9969\n",
            "Epoch 19/55\n",
            "4/4 [==============================] - 0s 57ms/step - loss: 0.0082 - accuracy: 0.9969\n",
            "Epoch 20/55\n",
            "4/4 [==============================] - 0s 61ms/step - loss: 0.0023 - accuracy: 1.0000\n",
            "Epoch 21/55\n",
            "4/4 [==============================] - 0s 59ms/step - loss: 0.0098 - accuracy: 1.0000\n",
            "Epoch 22/55\n",
            "4/4 [==============================] - 0s 55ms/step - loss: 0.0086 - accuracy: 1.0000\n",
            "Epoch 23/55\n",
            "4/4 [==============================] - 0s 58ms/step - loss: 0.0248 - accuracy: 0.9854\n",
            "Epoch 24/55\n",
            "4/4 [==============================] - 0s 55ms/step - loss: 0.0047 - accuracy: 1.0000\n",
            "Epoch 25/55\n",
            "4/4 [==============================] - 0s 61ms/step - loss: 0.0386 - accuracy: 0.9865\n",
            "Epoch 26/55\n",
            "4/4 [==============================] - 0s 65ms/step - loss: 0.0101 - accuracy: 0.9969\n",
            "Epoch 27/55\n",
            "4/4 [==============================] - 0s 59ms/step - loss: 0.0099 - accuracy: 1.0000\n",
            "Epoch 28/55\n",
            "4/4 [==============================] - 0s 62ms/step - loss: 0.0070 - accuracy: 1.0000\n",
            "Epoch 29/55\n",
            "4/4 [==============================] - 0s 56ms/step - loss: 0.0053 - accuracy: 1.0000\n",
            "Epoch 30/55\n",
            "4/4 [==============================] - 0s 61ms/step - loss: 0.0078 - accuracy: 0.9948\n",
            "Epoch 31/55\n",
            "4/4 [==============================] - 0s 57ms/step - loss: 0.0416 - accuracy: 0.9771\n",
            "Epoch 32/55\n",
            "4/4 [==============================] - 0s 56ms/step - loss: 0.0045 - accuracy: 1.0000\n",
            "Epoch 33/55\n",
            "4/4 [==============================] - 0s 61ms/step - loss: 7.6236e-04 - accuracy: 1.0000\n",
            "Epoch 34/55\n",
            "4/4 [==============================] - 0s 59ms/step - loss: 0.0023 - accuracy: 1.0000\n",
            "Epoch 35/55\n",
            "4/4 [==============================] - 0s 61ms/step - loss: 0.0023 - accuracy: 1.0000\n",
            "Epoch 36/55\n",
            "4/4 [==============================] - 0s 56ms/step - loss: 0.0144 - accuracy: 0.9969\n",
            "Epoch 37/55\n",
            "4/4 [==============================] - 0s 61ms/step - loss: 0.0015 - accuracy: 1.0000\n",
            "Epoch 38/55\n",
            "4/4 [==============================] - 0s 60ms/step - loss: 0.0402 - accuracy: 0.9917\n",
            "Epoch 39/55\n",
            "4/4 [==============================] - 0s 60ms/step - loss: 0.0190 - accuracy: 0.9969\n",
            "Epoch 40/55\n",
            "4/4 [==============================] - 0s 60ms/step - loss: 0.0110 - accuracy: 1.0000\n",
            "Epoch 41/55\n",
            "4/4 [==============================] - 0s 61ms/step - loss: 0.0059 - accuracy: 1.0000\n",
            "Epoch 42/55\n",
            "4/4 [==============================] - 0s 55ms/step - loss: 0.0034 - accuracy: 0.9969\n",
            "Epoch 43/55\n",
            "4/4 [==============================] - 0s 56ms/step - loss: 0.0012 - accuracy: 1.0000\n",
            "Epoch 44/55\n",
            "4/4 [==============================] - 0s 56ms/step - loss: 0.0014 - accuracy: 1.0000\n",
            "Epoch 45/55\n",
            "4/4 [==============================] - 0s 61ms/step - loss: 0.0031 - accuracy: 1.0000\n",
            "Epoch 46/55\n",
            "4/4 [==============================] - 0s 61ms/step - loss: 0.0041 - accuracy: 1.0000\n",
            "Epoch 47/55\n",
            "4/4 [==============================] - 0s 55ms/step - loss: 0.0031 - accuracy: 1.0000\n",
            "Epoch 48/55\n",
            "4/4 [==============================] - 0s 57ms/step - loss: 0.0170 - accuracy: 1.0000\n",
            "Epoch 49/55\n",
            "4/4 [==============================] - 0s 55ms/step - loss: 0.0018 - accuracy: 1.0000\n",
            "Epoch 50/55\n",
            "4/4 [==============================] - 0s 60ms/step - loss: 0.0013 - accuracy: 1.0000\n",
            "Epoch 51/55\n",
            "4/4 [==============================] - 0s 60ms/step - loss: 0.0025 - accuracy: 1.0000\n",
            "Epoch 52/55\n",
            "4/4 [==============================] - 0s 57ms/step - loss: 0.0010 - accuracy: 1.0000\n",
            "Epoch 53/55\n",
            "4/4 [==============================] - 0s 61ms/step - loss: 0.0022 - accuracy: 1.0000\n",
            "Epoch 54/55\n",
            "4/4 [==============================] - 0s 58ms/step - loss: 7.7751e-04 - accuracy: 1.0000\n",
            "Epoch 55/55\n",
            "4/4 [==============================] - 0s 59ms/step - loss: 0.0026 - accuracy: 1.0000\n"
          ],
          "name": "stdout"
        },
        {
          "output_type": "execute_result",
          "data": {
            "text/plain": [
              "<tensorflow.python.keras.callbacks.History at 0x7f13c4a487d0>"
            ]
          },
          "metadata": {
            "tags": []
          },
          "execution_count": 33
        }
      ]
    },
    {
      "cell_type": "code",
      "metadata": {
        "colab": {
          "base_uri": "https://localhost:8080/"
        },
        "id": "heBKu81fTF1C",
        "outputId": "5fea90ba-8e59-4c21-81b9-3c77126e4b80"
      },
      "source": [
        "def response(sentence):\n",
        "    sent_seq = []\n",
        "    doc = nlp(repr(sentence))\n",
        "    \n",
        "    # split the input sentences into words\n",
        "    for token in doc:\n",
        "        if token.text in tokenizer.word_index:\n",
        "            sent_seq.append(tokenizer.word_index[token.text])\n",
        "\n",
        "        # handle the unknown words error\n",
        "        else:\n",
        "            sent_seq.append(tokenizer.word_index['<unk>'])\n",
        "\n",
        "    sent_seq = tf.expand_dims(sent_seq, 0)\n",
        "    # predict the category of input sentences\n",
        "    pred = model(sent_seq)\n",
        "\n",
        "    pred_class = np.argmax(pred.numpy(), axis=1)\n",
        "     # choice a random response for predicted sentence\n",
        "    return random.choice(intent_doc[trg_index_word[pred_class[0]]]), trg_index_word[pred_class[0]]\n",
        "\n",
        "# chat with bot\n",
        "print(\"Note: Genres the bot can recommend about are : Music, Games, Comedy\")\n",
        "print(\"Note: Enter 'Recommed me (genres) videos or (genres) videos or (genres)' to get recommendation based on genres.\")\n",
        "print(\"For example: 'Recommend me music videos' \")\n",
        "print(\"Note: Enter 'quit' to break the loop.\")\n",
        "while True:\n",
        "    input_ = input('You: ')\n",
        "    if input_.lower() == 'quit':\n",
        "        break\n",
        "    res, typ = response(input_.lower())\n",
        "    print('Bot: {} -- TYPE: {}'.format(res, typ))\n",
        "    print()"
      ],
      "execution_count": 34,
      "outputs": [
        {
          "output_type": "stream",
          "text": [
            "Note: Genres the bot can recommend about are : Music, Games, Comedy\n",
            "Note: Enter 'Recommed me (genres) videos or (genres) videos or (genres)' to get recommendation based on genres.\n",
            "For example: 'Recommend me music videos' \n",
            "Note: Enter 'quit' to break the loop.\n",
            "You: Hello\n",
            "Bot: Hi, I am great, how are you?  -- TYPE: CourtesyGreeting\n",
            "\n",
            "You: Great\n",
            "Bot: Great! Hi <HUMAN>! How can I help? -- TYPE: CourtesyGreetingResponse\n",
            "\n",
            "You: Recommend me games\n",
            "Bot: https://www.youtube.com/watch?v=stFgmKAU2B4 -- TYPE: RecommendGames\n",
            "\n",
            "You: quit\n"
          ],
          "name": "stdout"
        }
      ]
    }
  ]
}